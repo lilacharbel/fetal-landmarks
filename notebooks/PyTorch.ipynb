{
 "cells": [
  {
   "cell_type": "code",
   "execution_count": 1,
   "metadata": {},
   "outputs": [],
   "source": [
    "%reload_ext autoreload\n",
    "%autoreload 2\n",
    "%matplotlib inline\n",
    "\n",
    "\n",
    "import argparse\n",
    "import torch\n",
    "import torch.nn as nn\n",
    "import torch.nn.functional as F\n",
    "import torch.optim as optim\n",
    "from torchvision import datasets, transforms\n",
    "from torch.autograd import Variable\n",
    "from tensorboardX import SummaryWriter\n",
    "torch.cuda.set_device(1)\n"
   ]
  },
  {
   "cell_type": "code",
   "execution_count": 2,
   "metadata": {},
   "outputs": [],
   "source": [
    "# Add previous directory\n",
    "import sys \n",
    "sys.path.append('..')\n",
    "\n",
    "# import loader\n",
    "from loader import NiftiDataset\n",
    "import transforms as tfs"
   ]
  },
  {
   "cell_type": "code",
   "execution_count": 3,
   "metadata": {},
   "outputs": [],
   "source": [
    "parser = argparse.ArgumentParser(description='PyTorch MNIST Example')\n",
    "parser.add_argument('--batch-size', type=int, default=64, metavar='N',\n",
    "                    help='input batch size for training (default: 64)')\n",
    "parser.add_argument('--test-batch-size', type=int, default=1000, metavar='N',\n",
    "                    help='input batch size for testing (default: 1000)')\n",
    "parser.add_argument('--epochs', type=int, default=2, metavar='N',\n",
    "                    help='number of epochs to train (default: 10)')\n",
    "parser.add_argument('--lr', type=float, default=0.01, metavar='LR',\n",
    "                    help='learning rate (default: 0.01)')\n",
    "parser.add_argument('--momentum', type=float, default=0.5, metavar='M',\n",
    "                    help='SGD momentum (default: 0.5)')\n",
    "parser.add_argument('--no-cuda', action='store_true', default=False,\n",
    "                    help='disables CUDA training')\n",
    "parser.add_argument('--seed', type=int, default=1, metavar='S',\n",
    "                    help='random seed (default: 1)')\n",
    "parser.add_argument('--log-interval', type=int, default=10, metavar='N',\n",
    "                    help='how many batches to wait before logging training status')\n",
    "# if __name__=='__main__':\n",
    "#     args = parser.parse_args()\n",
    "# else:\n",
    "args = parser.parse_args(\"--batch-size 1\".split())\n",
    "args.cuda = not args.no_cuda and torch.cuda.is_available()"
   ]
  },
  {
   "cell_type": "code",
   "execution_count": 4,
   "metadata": {},
   "outputs": [],
   "source": [
    "kwargs = {'num_workers': 1, 'pin_memory': True}\n",
    "train_loader = torch.utils.data.DataLoader(NiftiDataset(csv_file='/media/df3-dafna/Netanell/BLLAMODEL/Data.xlsx',\n",
    "                                    root_dir='/media/df3-dafna/Netanell/BLLAMODEL/',\n",
    "                                           transform=transforms.Compose([\n",
    "                                               tfs.ToTensor(),\n",
    "                                               tfs.Rescale((128,128))\n",
    "                                           ])),\n",
    "                                    batch_size=args.batch_size, shuffle=True, **kwargs)\n",
    "\n",
    "\n"
   ]
  },
  {
   "cell_type": "code",
   "execution_count": 5,
   "metadata": {},
   "outputs": [],
   "source": [
    "class Net(nn.Module):\n",
    "    def __init__(self):\n",
    "        super(Net, self).__init__()\n",
    "        self.conv1 = nn.Conv2d(1, 10, kernel_size=5)\n",
    "        self.conv2 = nn.Conv2d(10, 20, kernel_size=5)\n",
    "        self.conv2_drop = nn.Dropout2d()\n",
    "        self.fc1 = nn.Linear(320, 50)\n",
    "        self.fc2 = nn.Linear(50, 10)\n",
    "\n",
    "    def forward(self, x):\n",
    "        x = F.relu(F.max_pool2d(self.conv1(x), 2))\n",
    "        x = F.relu(F.max_pool2d(self.conv2_drop(self.conv2(x)), 2))\n",
    "        x = x.view(-1, 320)\n",
    "        x = F.relu(self.fc1(x))\n",
    "        x = F.dropout(x, training=self.training)\n",
    "        x = self.fc2(x)\n",
    "        return F.log_softmax(x)\n",
    "    "
   ]
  },
  {
   "cell_type": "code",
   "execution_count": 6,
   "metadata": {},
   "outputs": [],
   "source": [
    "model = Net()\n",
    "if args.cuda:\n",
    "    model.cuda()\n",
    "optimizer = optim.SGD(model.parameters(), lr=args.lr, momentum=args.momentum)\n",
    "\n",
    "\n",
    "def train(epoch):\n",
    "    model.train()\n",
    "    for batch_idx, (data, target) in enumerate(train_loader):\n",
    "        if args.cuda:\n",
    "            data, target = data.cuda(), target.cuda()\n",
    "        data, target = Variable(data), Variable(target)\n",
    "        optimizer.zero_grad()\n",
    "        output = model(data)\n",
    "        loss = F.nll_loss(output, target)\n",
    "        loss.backward()\n",
    "        optimizer.step()\n",
    "        if batch_idx % args.log_interval == 0:\n",
    "            print('Train Epoch: {} [{}/{} ({:.0f}%)]\\tLoss: {:.6f}'.format(\n",
    "                epoch, batch_idx * len(data), len(train_loader.dataset),\n",
    "                100. * batch_idx / len(train_loader), loss.data.item()))\n",
    "            niter = epoch*len(train_loader)+batch_idx\n",
    "            writer.add_scalar('Train/Loss', loss.data.item(), niter)\n"
   ]
  },
  {
   "cell_type": "code",
   "execution_count": 7,
   "metadata": {},
   "outputs": [
    {
     "name": "stdout",
     "output_type": "stream",
     "text": [
      "132 140 128 128 torch.Size([132, 140, 24]) (128, 128, 24)\n",
      "136 132 128 128 torch.Size([136, 132, 26]) (128, 128, 26)\n"
     ]
    },
    {
     "ename": "AttributeError",
     "evalue": "'str' object has no attribute 'cuda'",
     "output_type": "error",
     "traceback": [
      "\u001b[0;31m---------------------------------------------------------------------------\u001b[0m",
      "\u001b[0;31mAttributeError\u001b[0m                            Traceback (most recent call last)",
      "\u001b[0;32m<ipython-input-7-cc22f0e55ea9>\u001b[0m in \u001b[0;36m<module>\u001b[0;34m\u001b[0m\n\u001b[1;32m      1\u001b[0m \u001b[0;32mfor\u001b[0m \u001b[0mepoch\u001b[0m \u001b[0;32min\u001b[0m \u001b[0mrange\u001b[0m\u001b[0;34m(\u001b[0m\u001b[0;36m1\u001b[0m\u001b[0;34m,\u001b[0m \u001b[0margs\u001b[0m\u001b[0;34m.\u001b[0m\u001b[0mepochs\u001b[0m \u001b[0;34m+\u001b[0m \u001b[0;36m1\u001b[0m\u001b[0;34m)\u001b[0m\u001b[0;34m:\u001b[0m\u001b[0;34m\u001b[0m\u001b[0;34m\u001b[0m\u001b[0m\n\u001b[0;32m----> 2\u001b[0;31m     \u001b[0mtrain\u001b[0m\u001b[0;34m(\u001b[0m\u001b[0mepoch\u001b[0m\u001b[0;34m)\u001b[0m\u001b[0;34m\u001b[0m\u001b[0;34m\u001b[0m\u001b[0m\n\u001b[0m\u001b[1;32m      3\u001b[0m     \u001b[0mtorch\u001b[0m\u001b[0;34m.\u001b[0m\u001b[0msave\u001b[0m\u001b[0;34m(\u001b[0m\u001b[0mmodel\u001b[0m\u001b[0;34m,\u001b[0m \u001b[0;34m'/tmp/model{}'\u001b[0m\u001b[0;34m.\u001b[0m\u001b[0mformat\u001b[0m\u001b[0;34m(\u001b[0m\u001b[0mepoch\u001b[0m\u001b[0;34m)\u001b[0m\u001b[0;34m)\u001b[0m\u001b[0;34m\u001b[0m\u001b[0;34m\u001b[0m\u001b[0m\n",
      "\u001b[0;32m<ipython-input-6-31f3611f29da>\u001b[0m in \u001b[0;36mtrain\u001b[0;34m(epoch)\u001b[0m\n\u001b[1;32m      9\u001b[0m     \u001b[0;32mfor\u001b[0m \u001b[0mbatch_idx\u001b[0m\u001b[0;34m,\u001b[0m \u001b[0;34m(\u001b[0m\u001b[0mdata\u001b[0m\u001b[0;34m,\u001b[0m \u001b[0mtarget\u001b[0m\u001b[0;34m)\u001b[0m \u001b[0;32min\u001b[0m \u001b[0menumerate\u001b[0m\u001b[0;34m(\u001b[0m\u001b[0mtrain_loader\u001b[0m\u001b[0;34m)\u001b[0m\u001b[0;34m:\u001b[0m\u001b[0;34m\u001b[0m\u001b[0;34m\u001b[0m\u001b[0m\n\u001b[1;32m     10\u001b[0m         \u001b[0;32mif\u001b[0m \u001b[0margs\u001b[0m\u001b[0;34m.\u001b[0m\u001b[0mcuda\u001b[0m\u001b[0;34m:\u001b[0m\u001b[0;34m\u001b[0m\u001b[0;34m\u001b[0m\u001b[0m\n\u001b[0;32m---> 11\u001b[0;31m             \u001b[0mdata\u001b[0m\u001b[0;34m,\u001b[0m \u001b[0mtarget\u001b[0m \u001b[0;34m=\u001b[0m \u001b[0mdata\u001b[0m\u001b[0;34m.\u001b[0m\u001b[0mcuda\u001b[0m\u001b[0;34m(\u001b[0m\u001b[0;34m)\u001b[0m\u001b[0;34m,\u001b[0m \u001b[0mtarget\u001b[0m\u001b[0;34m.\u001b[0m\u001b[0mcuda\u001b[0m\u001b[0;34m(\u001b[0m\u001b[0;34m)\u001b[0m\u001b[0;34m\u001b[0m\u001b[0;34m\u001b[0m\u001b[0m\n\u001b[0m\u001b[1;32m     12\u001b[0m         \u001b[0mdata\u001b[0m\u001b[0;34m,\u001b[0m \u001b[0mtarget\u001b[0m \u001b[0;34m=\u001b[0m \u001b[0mVariable\u001b[0m\u001b[0;34m(\u001b[0m\u001b[0mdata\u001b[0m\u001b[0;34m)\u001b[0m\u001b[0;34m,\u001b[0m \u001b[0mVariable\u001b[0m\u001b[0;34m(\u001b[0m\u001b[0mtarget\u001b[0m\u001b[0;34m)\u001b[0m\u001b[0;34m\u001b[0m\u001b[0;34m\u001b[0m\u001b[0m\n\u001b[1;32m     13\u001b[0m         \u001b[0moptimizer\u001b[0m\u001b[0;34m.\u001b[0m\u001b[0mzero_grad\u001b[0m\u001b[0;34m(\u001b[0m\u001b[0;34m)\u001b[0m\u001b[0;34m\u001b[0m\u001b[0;34m\u001b[0m\u001b[0m\n",
      "\u001b[0;31mAttributeError\u001b[0m: 'str' object has no attribute 'cuda'"
     ]
    }
   ],
   "source": [
    "for epoch in range(1, args.epochs + 1):\n",
    "    train(epoch)\n",
    "    torch.save(model, '/tmp/model{}'.format(epoch))"
   ]
  },
  {
   "cell_type": "code",
   "execution_count": 12,
   "metadata": {},
   "outputs": [
    {
     "name": "stdout",
     "output_type": "stream",
     "text": [
      "120 124 128 128 torch.Size([120, 124, 20]) (128, 128, 20)\n",
      "TCD_Selection\n",
      "160 132 128 128 torch.Size([160, 132, 28]) (128, 128, 28)\n",
      "TCD_Selection\n",
      "132 140 128 128 torch.Size([132, 140, 32]) (128, 128, 32)\n",
      "TCD_Selection\n",
      "136 124 128 128 torch.Size([136, 124, 34]) (128, 128, 34)\n",
      "140 127 128 128 torch.Size([140, 127, 20]) (128, 128, 20)\n",
      "TCD_Selection\n",
      "TCD_Selection\n",
      "136 132 128 128 torch.Size([136, 132, 26]) (128, 128, 26)\n",
      "TCD_Selection\n",
      "136 124 128 128 torch.Size([136, 124, 34]) (128, 128, 34)\n",
      "108 120 128 128 torch.Size([108, 120, 18]) (128, 128, 18)\n",
      "TCD_Selection\n",
      "TCD_Selection\n",
      "120 112 128 128 torch.Size([120, 112, 27]) (128, 128, 27)\n",
      "124 140 128 128 torch.Size([124, 140, 22]) (128, 128, 22)\n",
      "TCD_Selection\n",
      "TCD_Selection\n",
      "124 136 128 128 torch.Size([124, 136, 22]) (128, 128, 22)\n",
      "132 140 128 128 torch.Size([132, 140, 24]) (128, 128, 24)\n",
      "TCD_Selection\n",
      "TCD_Selection\n",
      "116 104 128 128 torch.Size([116, 104, 22]) (128, 128, 22)\n",
      "128 116 128 128 torch.Size([128, 116, 20]) (128, 128, 20)\n",
      "TCD_Selection\n",
      "TCD_Selection\n",
      "120 116 128 128 torch.Size([120, 116, 20]) (128, 128, 20)\n",
      "TCD_Selection\n",
      "132 120 128 128 torch.Size([132, 120, 36]) (128, 128, 36)\n",
      "TCD_Selection\n",
      "136 124 128 128 torch.Size([136, 124, 29]) (128, 128, 29)\n",
      "128 123 128 128 torch.Size([128, 123, 18]) (128, 128, 18)\n",
      "TCD_Selection\n",
      "TCD_Selection\n",
      "132 128 128 128 torch.Size([132, 128, 20]) (128, 128, 20)\n",
      "136 124 128 128 torch.Size([136, 124, 22]) (128, 128, 22)\n",
      "TCD_Selection\n",
      "TCD_Selection\n",
      "132 140 128 128 torch.Size([132, 140, 30]) (128, 128, 30)\n",
      "TCD_Selection\n",
      "132 124 128 128 torch.Size([132, 124, 24]) (128, 128, 24)\n",
      "TCD_Selection\n",
      "132 120 128 128 torch.Size([132, 120, 36]) (128, 128, 36)\n",
      "108 104 128 128 torch.Size([108, 104, 24]) (128, 128, 24)\n",
      "TCD_Selection\n",
      "TCD_Selection\n",
      "140 128 128 128 torch.Size([140, 128, 28]) (128, 128, 28)\n",
      "TCD_Selection\n",
      "129 116 128 128 torch.Size([129, 116, 28]) (128, 128, 28)\n",
      "128 136 128 128 torch.Size([128, 136, 20]) (128, 128, 20)\n",
      "TCD_Selection\n",
      "TCD_Selection\n",
      "124 144 128 128 torch.Size([124, 144, 22]) (128, 128, 22)\n",
      "132 140 128 128 torch.Size([132, 140, 22]) (128, 128, 22)\n",
      "TCD_Selection\n",
      "112 128 128 128 torch.Size([112, 128, 26]) (128, 128, 26)\n",
      "TCD_Selection\n",
      "140 120 128 128 torch.Size([140, 120, 22]) (128, 128, 22)\n",
      "TCD_Selection\n",
      "TCD_Selection\n",
      "128 120 128 128 torch.Size([128, 120, 32]) (128, 128, 32)\n",
      "TCD_Selection\n"
     ]
    }
   ],
   "source": [
    "for batch_idx, (data, target) in enumerate(train_loader):\n",
    "      print(target)"
   ]
  },
  {
   "cell_type": "code",
   "execution_count": null,
   "metadata": {},
   "outputs": [],
   "source": []
  }
 ],
 "metadata": {
  "kernelspec": {
   "display_name": "Python 3",
   "language": "python",
   "name": "python3"
  },
  "language_info": {
   "codemirror_mode": {
    "name": "ipython",
    "version": 3
   },
   "file_extension": ".py",
   "mimetype": "text/x-python",
   "name": "python",
   "nbconvert_exporter": "python",
   "pygments_lexer": "ipython3",
   "version": "3.6.8"
  }
 },
 "nbformat": 4,
 "nbformat_minor": 2
}
